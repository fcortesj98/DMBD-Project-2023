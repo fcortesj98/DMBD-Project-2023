{
 "cells": [
  {
   "cell_type": "markdown",
   "source": [
    "# Simple correlation analysis of variables"
   ],
   "metadata": {
    "collapsed": false
   },
   "id": "2d8e91ea62780c66"
  },
  {
   "cell_type": "markdown",
   "source": [
    "## We perform this to know which variables we should keep"
   ],
   "metadata": {
    "collapsed": false
   },
   "id": "234119468ee7c53e"
  },
  {
   "cell_type": "code",
   "outputs": [],
   "source": [
    "import pandas as pd\n",
    "import seaborn as sns\n",
    "import matplotlib.pyplot as plt\n",
    "\n",
    "external_df = pd.read_csv('/Users/arielguerra/Downloads/data-3/timeseries/2015/external.csv')\n",
    "global_df = pd.read_csv('/Users/arielguerra/Downloads/data-3/timeseries/2015/global.csv')\n",
    "by_actor_df = pd.read_csv('/Users/arielguerra/Downloads/data-3/timeseries/2015/by_actor.csv')\n",
    "\n",
    "external_df.sort_values(by=['week', 'weekday'], inplace=True)\n",
    "global_df.sort_values(by=['week', 'weekday'], inplace=True)\n",
    "by_actor_df.sort_values(by=['week', 'weekday'], inplace=True)"
   ],
   "metadata": {
    "collapsed": false,
    "ExecuteTime": {
     "end_time": "2024-02-01T13:39:11.497600Z",
     "start_time": "2024-02-01T13:39:11.383178Z"
    }
   },
   "id": "7933e5df72b98bd8",
   "execution_count": 1
  },
  {
   "cell_type": "code",
   "outputs": [],
   "source": [
    "external_df.set_index('date', inplace=True)\n",
    "global_df.set_index('date', inplace=True)\n",
    "by_actor_df.set_index('date', inplace=True)\n",
    "\n",
    "external_relevant = external_df[['PriceUSD', 'HashRate']]\n",
    "global_relevant = global_df[['nb_transactions', 'total_received_satoshi', 'total_sent_satoshi', 'mean_feeUSD']]\n",
    "by_actor_relevant = by_actor_df[['received', 'spent', 'nb_transactions', 'self_spent']]\n",
    "\n",
    "by_actor_aggregated = by_actor_relevant.groupby('date').sum()\n",
    "\n",
    "merged_df = pd.concat([external_relevant, global_relevant, by_actor_aggregated], axis=1)"
   ],
   "metadata": {
    "collapsed": false
   },
   "id": "50037338b5e0f8f6",
   "execution_count": null
  },
  {
   "cell_type": "code",
   "outputs": [],
   "source": [
    "styled_column_names = {\n",
    "    'PriceUSD': 'Price USD',\n",
    "    'HashRate': 'Hash Rate',\n",
    "    'total_sent_satoshi': 'Total Sent Satoshi',\n",
    "    'mean_feeUSD': 'Mean Fee USD',\n",
    "    'received': 'Total Received',\n",
    "    'spent': 'Total Spent',\n",
    "    'self_spent': 'Self Spent'\n",
    "}\n",
    "\n",
    "merged_df.rename(columns=styled_column_names, inplace=True)\n",
    "\n",
    "correlation_matrix_styled = merged_df.corr()\n",
    "\n",
    "plt.figure(figsize=(12, 8))\n",
    "sns.heatmap(correlation_matrix_styled, annot=True, cmap='coolwarm')\n",
    "plt.title('Correlation Matrix of Bitcoin Dataset Variables')\n",
    "plt.show()"
   ],
   "metadata": {
    "collapsed": false
   },
   "id": "ef64cc89bc94e81b"
  }
 ],
 "metadata": {
  "kernelspec": {
   "display_name": "Python 3",
   "language": "python",
   "name": "python3"
  },
  "language_info": {
   "codemirror_mode": {
    "name": "ipython",
    "version": 2
   },
   "file_extension": ".py",
   "mimetype": "text/x-python",
   "name": "python",
   "nbconvert_exporter": "python",
   "pygments_lexer": "ipython2",
   "version": "2.7.6"
  }
 },
 "nbformat": 4,
 "nbformat_minor": 5
}
