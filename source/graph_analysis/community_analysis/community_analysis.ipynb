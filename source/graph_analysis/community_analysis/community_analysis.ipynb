{
  "cells": [
    {
      "cell_type": "markdown",
      "metadata": {
        "id": "DpuRrocVnj97"
      },
      "source": [
        "# Experiment: Community Analysis - Graph Tast\n",
        "\n",
        "**Author:** Felipe Cortes Jaramillo\n",
        "\n",
        "**Description:** In this experiment we want to compute the communities within the block-chain data using three different algorithms: Louvain, Greedy Modulariy and Label Propagation. We then are going to plot different information regarding this communities and compare them with the increase of the bitcoin price.\n",
        "\n",
        "**References:** We took inspiration on the following references when building the code:\n",
        "\n",
        "- https://github.com/riki95/Bitcoin-Graph-study-with-NetworkX\n",
        "- https://networkx.org/documentation/stable/reference/algorithms/generated/networkx.algorithms.community.louvain.louvain_communities.html\n",
        "- https://networkx.org/documentation/stable/reference/algorithms/generated/networkx.algorithms.community.modularity_max.greedy_modularity_communities.html\n",
        "- https://networkx.org/documentation/stable/reference/algorithms/generated/networkx.algorithms.community.label_propagation.label_propagation_communities.html"
      ]
    },
    {
      "cell_type": "code",
      "execution_count": 2,
      "metadata": {
        "colab": {
          "base_uri": "https://localhost:8080/"
        },
        "id": "0ietTmZPX1-D",
        "outputId": "06b486f6-de68-4b78-b016-02bd673061a7"
      },
      "outputs": [],
      "source": [
        "# Un-comment the following line to install the required packages\n",
        "\n",
        "# !pip install networkx python-louvain plotly pyspark"
      ]
    },
    {
      "cell_type": "code",
      "execution_count": 3,
      "metadata": {
        "id": "9rxDCSMuY8CE"
      },
      "outputs": [],
      "source": [
        "# Import needed libraries\n",
        "\n",
        "from pyspark.sql.functions import input_file_name, regexp_extract, col\n",
        "from pyspark.sql import SparkSession\n",
        "import networkx as nx\n",
        "import plotly.graph_objects as go\n",
        "import matplotlib.pyplot as plt\n",
        "import collections\n",
        "from community import community_louvain"
      ]
    },
    {
      "cell_type": "code",
      "execution_count": 3,
      "metadata": {
        "colab": {
          "base_uri": "https://localhost:8080/"
        },
        "id": "-nEBt1JXXJny",
        "outputId": "87937cb6-eb3d-4228-f6fe-68bc3ecb9c29"
      },
      "outputs": [
        {
          "name": "stdout",
          "output_type": "stream",
          "text": [
            "Drive already mounted at /content/drive; to attempt to forcibly remount, call drive.mount(\"/content/drive\", force_remount=True).\n"
          ]
        }
      ],
      "source": [
        "# First, we start uploading the Google Drive (If using the Cloud)\n",
        "\n",
        "#from google.colab import drive\n",
        "#drive.mount('/content/drive')"
      ]
    },
    {
      "cell_type": "code",
      "execution_count": null,
      "metadata": {
        "id": "MLBUWk2JXTQi"
      },
      "outputs": [],
      "source": [
        "spark = SparkSession.builder \\\n",
        "    .appName(\"Combine CSVs\") \\\n",
        "    .getOrCreate()"
      ]
    },
    {
      "cell_type": "code",
      "execution_count": 5,
      "metadata": {
        "id": "khBCQkGIrFuq"
      },
      "outputs": [],
      "source": [
        "# List of different Q's across years\n",
        "\n",
        "file_pattern_15_Q1 = \"./../data/data_no_tokenized/2015-Q1/*-*-*.csv\"\n",
        "file_pattern_15_Q2 = \"./../data/data_no_tokenized/2015-Q2/*-*-*.csv\"\n",
        "file_pattern_15_Q3 = \"./../data/data_no_tokenized/2015-Q3/*-*-*.csv\"\n",
        "file_pattern_15_Q4 = \"./../data/data_no_tokenized/2015-Q4/*-*-*.csv\"\n",
        "file_pattern_16_Q1 = \"./../data/data_no_tokenized/2016-Q1/*-*-*.csv\"\n",
        "file_pattern_16_Q2 = \"./../data/data_no_tokenized/2016-Q2/*-*-*.csv\"\n",
        "file_pattern_16_Q3 = \"./../data/data_no_tokenized/2016-Q3/*-*-*.csv\"\n",
        "file_pattern_16_Q4 = \"./../data/data_no_tokenized/2016-Q4/*-*-*.csv\"\n",
        "file_pattern_17_Q1 = \"./../data/data_no_tokenized/2017-Q1/*-*-*.csv\"\n",
        "file_pattern_17_Q2 = \"./../data/data_no_tokenized/2017-Q2/*-*-*.csv\"\n",
        "\n",
        "# Construct all dates\n",
        "\n",
        "all_dates = [file_pattern_15_Q1, file_pattern_15_Q2, file_pattern_15_Q3, file_pattern_15_Q4,\n",
        "            file_pattern_16_Q1, file_pattern_16_Q2, file_pattern_16_Q3, file_pattern_16_Q4,\n",
        "            file_pattern_17_Q1, file_pattern_17_Q2]"
      ]
    },
    {
      "cell_type": "code",
      "execution_count": 6,
      "metadata": {
        "colab": {
          "base_uri": "https://localhost:8080/"
        },
        "id": "eoq6WM0YsQqh",
        "outputId": "7c9fa64d-5abc-420e-d7ab-bf4ca0a48ff0"
      },
      "outputs": [
        {
          "name": "stdout",
          "output_type": "stream",
          "text": [
            "Graph finished for file route: /content/drive/MyDrive/data/networks/2015-Q1/*-*-*.csv\n",
            "Graph finished for file route: /content/drive/MyDrive/data/networks/2015-Q2/*-*-*.csv\n",
            "Graph finished for file route: /content/drive/MyDrive/data/networks/2015-Q3/*-*-*.csv\n",
            "Graph finished for file route: /content/drive/MyDrive/data/networks/2015-Q4/*-*-*.csv\n",
            "Graph finished for file route: /content/drive/MyDrive/data/networks/2016-Q1/*-*-*.csv\n",
            "Graph finished for file route: /content/drive/MyDrive/data/networks/2016-Q2/*-*-*.csv\n",
            "Graph finished for file route: /content/drive/MyDrive/data/networks/2016-Q3/*-*-*.csv\n",
            "Graph finished for file route: /content/drive/MyDrive/data/networks/2016-Q4/*-*-*.csv\n",
            "Graph finished for file route: /content/drive/MyDrive/data/networks/2017-Q1/*-*-*.csv\n",
            "Graph finished for file route: /content/drive/MyDrive/data/networks/2017-Q2/*-*-*.csv\n"
          ]
        }
      ],
      "source": [
        "# Construct all graphs list\n",
        "\n",
        "graphs_list = []\n",
        "\n",
        "for date in all_dates:\n",
        "  df = spark.read.csv(date, header=True, inferSchema=True)\n",
        "  # Enable the capture of file name\n",
        "  spark.conf.set(\"spark.sql.sources.partitionColumnTypeInference.enabled\", \"false\")\n",
        "  # Read the files and add a column with the file name\n",
        "  df = df.withColumn(\"filename\", input_file_name())\n",
        "  # Extract the date from the filename and add it as a column\n",
        "  df = df.withColumn(\"date\", regexp_extract(\"filename\", r'(\\d{4}-\\d{1,2}-\\d{1,2})', 1))\n",
        "  # Drop the filename column\n",
        "  df = df.drop('filename')\n",
        "  # Convert to pandas\n",
        "  pandas_df = df.toPandas()\n",
        "  # Initialize a directed graph since money flow is unidirectional\n",
        "  G = nx.DiGraph()\n",
        "  # Iterate through the DataFrame and add edges\n",
        "  for index, row in pandas_df.iterrows():\n",
        "    # Add an edge with attributes\n",
        "    G.add_edge(row['Source'], row['Target'], weight=row['value'])\n",
        "  print(f\"Graph finished for file route: {date}\")\n",
        "  graphs_list.append(G)"
      ]
    },
    {
      "cell_type": "markdown",
      "metadata": {
        "id": "xL9imtFpvMUH"
      },
      "source": [
        "## Experiment 1: Communities Analysis"
      ]
    },
    {
      "cell_type": "code",
      "execution_count": 7,
      "metadata": {
        "id": "LM6m015L8Y-Y"
      },
      "outputs": [],
      "source": [
        "def compute_inter_community_connections(G, partition):\n",
        "    ''' Compute the inter-community connections given a graph and a certain parition '''\n",
        "    inter_community_edges = {}\n",
        "    for u, v in G.edges():\n",
        "        if partition[u] != partition[v]:\n",
        "            if partition[u] not in inter_community_edges:\n",
        "                inter_community_edges[partition[u]] = 0\n",
        "            if partition[v] not in inter_community_edges:\n",
        "                inter_community_edges[partition[v]] = 0\n",
        "            inter_community_edges[partition[u]] += 1\n",
        "            inter_community_edges[partition[v]] += 1\n",
        "    return inter_community_edges\n",
        "\n",
        "def custom_draw_dynamic_new(G, label, n, algorithm):\n",
        "    ''' Custom functions that draws an interactive plot based on a fiven graph and algorithm to detect communities.'''\n",
        "\n",
        "    # Step 1: Remove Nodes with degree less than n\n",
        "    nodes_to_remove = [node for node, degree in dict(G.degree()).items() if degree < n]\n",
        "    G.remove_nodes_from(nodes_to_remove)\n",
        "\n",
        "    # Step 2: Extract Largest Component of the Graph\n",
        "    largest_cc = max(nx.connected_components(G), key=len)\n",
        "    G_largest_cc = G.subgraph(largest_cc)\n",
        "\n",
        "    # Step 3: Detect communities using the Louvain algorithm\n",
        "    if algorithm == 'louvain':\n",
        "      partition = community_louvain.best_partition(G_largest_cc)\n",
        "\n",
        "      inter_community_connections = compute_inter_community_connections(G_largest_cc, partition)\n",
        "\n",
        "      # Step 3.1: Compute community metrics\n",
        "      num_communities = len(set(partition.values()))\n",
        "      community_sizes = {i: 0 for i in range(num_communities)}\n",
        "      for node in G_largest_cc.nodes():\n",
        "          community_sizes[partition[node]] += 1\n",
        "      community_info = f\"Number of communities: {num_communities}<br>\" + \\\n",
        "                      \"<br>\".join([f\"Community {i}: {size} nodes\" for i, size in community_sizes.items()])\n",
        "\n",
        "    elif algorithm == 'greedy':\n",
        "      communities = nx.community.greedy_modularity_communities(G_largest_cc)\n",
        "      partition = {}\n",
        "      for i, community in enumerate(communities):\n",
        "          for node in community:\n",
        "              partition[node] = i\n",
        "\n",
        "      inter_community_connections = compute_inter_community_connections(G_largest_cc, partition)\n",
        "\n",
        "      # Step 3.1: Compute community metrics\n",
        "      num_communities = len(communities)\n",
        "      community_sizes = {i: len(community) for i, community in enumerate(communities)}\n",
        "      community_info = f\"Number of communities: {num_communities}<br>\" + \\\n",
        "                      \"<br>\".join([f\"Community {i}: {size} nodes\" for i, size in community_sizes.items()])\n",
        "\n",
        "    elif algorithm == 'label':\n",
        "      communities = nx.community.label_propagation_communities(G_largest_cc)\n",
        "      partition = {}\n",
        "      for i, community in enumerate(communities):\n",
        "          for node in community:\n",
        "              partition[node] = i\n",
        "\n",
        "      inter_community_connections = compute_inter_community_connections(G_largest_cc, partition)\n",
        "\n",
        "      # Step 3.1: Compute community metrics\n",
        "      num_communities = len(communities)\n",
        "      community_sizes = {i: len(community) for i, community in enumerate(communities)}\n",
        "      community_info = f\"Number of communities: {num_communities}<br>\" + \\\n",
        "                      \"<br>\".join([f\"Community {i}: {size} nodes\" for i, size in community_sizes.items()])\n",
        "\n",
        "    # Step 4: Position the nodes using one of the NetworkX layouts\n",
        "    pos = nx.spring_layout(G_largest_cc)\n",
        "\n",
        "    # Step 5: Extract node and edge positions from the layout\n",
        "    edge_x = []\n",
        "    edge_y = []\n",
        "    for edge in G_largest_cc.edges():\n",
        "        x0, y0 = pos[edge[0]]\n",
        "        x1, y1 = pos[edge[1]]\n",
        "        edge_x.extend([x0, x1, None])\n",
        "        edge_y.extend([y0, y1, None])\n",
        "\n",
        "    # Step 6: Create a trace for the edges\n",
        "    edge_trace = go.Scatter(\n",
        "        x=edge_x, y=edge_y,\n",
        "        line=dict(width=0.5, color='#888'),\n",
        "        hoverinfo='none',\n",
        "        mode='lines')\n",
        "\n",
        "    # Step 7: Create a trace for the nodes\n",
        "    node_x = []\n",
        "    node_y = []\n",
        "    node_color = []\n",
        "    for node in G_largest_cc.nodes():\n",
        "        x, y = pos[node]\n",
        "        node_x.append(x)\n",
        "        node_y.append(y)\n",
        "        node_color.append(partition[node])\n",
        "\n",
        "    node_trace = go.Scatter(\n",
        "        x=node_x, y=node_y,\n",
        "        mode='markers',\n",
        "        hoverinfo='text',\n",
        "        marker=dict(\n",
        "            showscale=True,\n",
        "            colorscale='YlGnBu',\n",
        "            reversescale=True,\n",
        "            color=node_color,\n",
        "            size=10,\n",
        "            colorbar=dict(\n",
        "                thickness=15,\n",
        "                title='Community Number',\n",
        "                xanchor='left',\n",
        "                titleside='right'\n",
        "            ),\n",
        "            line_width=2))\n",
        "\n",
        "    # Step 8: Add node metadata to hoverinfo\n",
        "    node_text = []\n",
        "    for node in G_largest_cc.nodes():\n",
        "        node_text.append('Node: {}<br># of connections: {}'.format(node, len(list(G_largest_cc.neighbors(node)))))\n",
        "\n",
        "    node_trace.text = node_text\n",
        "\n",
        "    # <--- Additional Metrics Calculations: --->\n",
        "\n",
        "    # Degree Centrality\n",
        "    degree_centrality = nx.degree_centrality(G)\n",
        "\n",
        "    # Betweenness Centrality\n",
        "    betweenness_centrality = nx.betweenness_centrality(G)\n",
        "\n",
        "    # Community Metrics\n",
        "\n",
        "    community_info += \"<br><br>Community Metrics:\"\n",
        "\n",
        "    for i in range(num_communities):\n",
        "        nodes_in_community = [node for node, comm in partition.items() if comm == i]\n",
        "        subgraph = G.subgraph(nodes_in_community)\n",
        "\n",
        "        # Community Density\n",
        "        density = nx.density(subgraph)\n",
        "        community_info += f\"<br>Community {i} Density: {density:.2f}\"\n",
        "\n",
        "        # Average Path Length\n",
        "        if len(subgraph) > 1:\n",
        "            avg_path_length = nx.average_shortest_path_length(subgraph)\n",
        "            community_info += f\", Average Path Length: {avg_path_length:.2f}\"\n",
        "        else:\n",
        "            community_info += \", Average Path Length: N/A\"\n",
        "\n",
        "        # Role of Nodes within Communities:\n",
        "        community_degree_centrality = nx.degree_centrality(subgraph)\n",
        "        average_centrality = sum(community_degree_centrality.values()) / len(community_degree_centrality)\n",
        "        community_info += f\"<br>Community {i} Average Degree Centrality: {average_centrality:.2f}\"\n",
        "\n",
        "        # Identify the most influential node:\n",
        "        most_influential_node = max(community_degree_centrality, key=community_degree_centrality.get)\n",
        "        community_info += f\", Most Influential Node: {most_influential_node}\"\n",
        "\n",
        "        # Inter-community connections for this community:\n",
        "        connections = inter_community_connections.get(i, 0)\n",
        "        community_info += f\"<br>Community {i} Inter-Community Connections: {connections}\"\n",
        "\n",
        "    node_trace.text = node_text\n",
        "\n",
        "    # Step 9: Modify the figure to include community info\n",
        "    fig = go.Figure(data=[edge_trace, node_trace],\n",
        "                    layout=go.Layout(\n",
        "                        title='Network graph for: {} - {} algorithm'.format(str(label.split('/')[-2]), algorithm),\n",
        "                        titlefont_size=16,\n",
        "                        showlegend=False,\n",
        "                        hovermode='closest',\n",
        "                        margin=dict(b=20, l=5, r=5, t=40),\n",
        "                        height=900,\n",
        "                        annotations=[\n",
        "                            dict(\n",
        "                                text=community_info,\n",
        "                                align='left',\n",
        "                                showarrow=False,\n",
        "                                xref=\"paper\", yref=\"paper\",\n",
        "                                x=0, y=1,\n",
        "                                xanchor='left',\n",
        "                                font=dict(\n",
        "                                    family=\"Courier New, monospace\",\n",
        "                                    size=14,\n",
        "                                    color=\"#000000\"\n",
        "                                )\n",
        "                            )\n",
        "                        ],\n",
        "                        xaxis=dict(showgrid=False, zeroline=False, showticklabels=False),\n",
        "                        yaxis=dict(showgrid=False, zeroline=False, showticklabels=False))\n",
        "                    )\n",
        "\n",
        "    # Step 10: Display the figure\n",
        "    fig.show()"
      ]
    },
    {
      "cell_type": "markdown",
      "metadata": {
        "id": "EDHyMu9a3Kx1"
      },
      "source": [
        "### Louvain Algorithm Results:"
      ]
    },
    {
      "cell_type": "code",
      "execution_count": null,
      "metadata": {
        "id": "OpqwtCZ83Sb8"
      },
      "outputs": [],
      "source": [
        "custom_draw_dynamic_new(graphs_list[0].to_undirected(), all_dates[0], 10, 'louvain')"
      ]
    },
    {
      "cell_type": "code",
      "execution_count": null,
      "metadata": {
        "id": "gDRjFIXj3Sk5"
      },
      "outputs": [],
      "source": [
        "custom_draw_dynamic_new(graphs_list[1].to_undirected(), all_dates[1], 10, 'louvain')"
      ]
    },
    {
      "cell_type": "code",
      "execution_count": null,
      "metadata": {
        "id": "Nd6FNHdO3Sqm"
      },
      "outputs": [],
      "source": [
        "custom_draw_dynamic_new(graphs_list[2].to_undirected(), all_dates[2], 10, 'louvain')"
      ]
    },
    {
      "cell_type": "code",
      "execution_count": null,
      "metadata": {
        "id": "8Lwnv2Ia3Su2"
      },
      "outputs": [],
      "source": [
        "custom_draw_dynamic_new(graphs_list[3].to_undirected(), all_dates[3], 10, 'louvain')"
      ]
    },
    {
      "cell_type": "code",
      "execution_count": null,
      "metadata": {
        "id": "jPR1pieV3Sy4"
      },
      "outputs": [],
      "source": [
        "custom_draw_dynamic_new(graphs_list[4].to_undirected(), all_dates[4], 10, 'louvain')"
      ]
    },
    {
      "cell_type": "code",
      "execution_count": null,
      "metadata": {
        "id": "QH-Ax7LD3S20"
      },
      "outputs": [],
      "source": [
        "custom_draw_dynamic_new(graphs_list[5].to_undirected(), all_dates[5], 10, 'louvain')"
      ]
    },
    {
      "cell_type": "code",
      "execution_count": null,
      "metadata": {
        "id": "ZlhSr9a93S6s"
      },
      "outputs": [],
      "source": [
        "custom_draw_dynamic_new(graphs_list[6].to_undirected(), all_dates[6], 10, 'louvain')"
      ]
    },
    {
      "cell_type": "code",
      "execution_count": null,
      "metadata": {
        "id": "_4UmrBlq3S91"
      },
      "outputs": [],
      "source": [
        "custom_draw_dynamic_new(graphs_list[7].to_undirected(), all_dates[7], 10, 'louvain')"
      ]
    },
    {
      "cell_type": "code",
      "execution_count": null,
      "metadata": {
        "id": "L26wgdNA3cWu"
      },
      "outputs": [],
      "source": [
        "custom_draw_dynamic_new(graphs_list[8].to_undirected(), all_dates[8], 10, 'louvain')"
      ]
    },
    {
      "cell_type": "code",
      "execution_count": null,
      "metadata": {
        "id": "FRM2-JpS3cl1"
      },
      "outputs": [],
      "source": [
        "custom_draw_dynamic_new(graphs_list[9].to_undirected(), all_dates[9], 10, 'louvain')"
      ]
    },
    {
      "cell_type": "markdown",
      "metadata": {
        "id": "8-SQMG3l3dXn"
      },
      "source": [
        "### Greedy Algorithm Results:"
      ]
    },
    {
      "cell_type": "code",
      "execution_count": null,
      "metadata": {
        "id": "qe29M_z93zNk"
      },
      "outputs": [],
      "source": [
        "custom_draw_dynamic_new(graphs_list[0].to_undirected(), all_dates[0], 10, 'greedy')"
      ]
    },
    {
      "cell_type": "code",
      "execution_count": null,
      "metadata": {
        "id": "GEqFOAVg3zNk"
      },
      "outputs": [],
      "source": [
        "custom_draw_dynamic_new(graphs_list[1].to_undirected(), all_dates[1], 10, 'greedy')"
      ]
    },
    {
      "cell_type": "code",
      "execution_count": null,
      "metadata": {
        "id": "b728JqWU3zNk"
      },
      "outputs": [],
      "source": [
        "custom_draw_dynamic_new(graphs_list[2].to_undirected(), all_dates[2], 10, 'greedy')"
      ]
    },
    {
      "cell_type": "code",
      "execution_count": null,
      "metadata": {
        "id": "phehbaBv3zNk"
      },
      "outputs": [],
      "source": [
        "custom_draw_dynamic_new(graphs_list[3].to_undirected(), all_dates[3], 10, 'greedy')"
      ]
    },
    {
      "cell_type": "code",
      "execution_count": null,
      "metadata": {
        "id": "808BMTwo3zNk"
      },
      "outputs": [],
      "source": [
        "custom_draw_dynamic_new(graphs_list[4].to_undirected(), all_dates[4], 10, 'greedy')"
      ]
    },
    {
      "cell_type": "code",
      "execution_count": null,
      "metadata": {
        "id": "TE3ubLj33zNk"
      },
      "outputs": [],
      "source": [
        "custom_draw_dynamic_new(graphs_list[5].to_undirected(), all_dates[5], 10, 'greedy')"
      ]
    },
    {
      "cell_type": "code",
      "execution_count": null,
      "metadata": {
        "id": "IZ_DHqpI3zNk"
      },
      "outputs": [],
      "source": [
        "custom_draw_dynamic_new(graphs_list[6].to_undirected(), all_dates[6], 10, 'greedy')"
      ]
    },
    {
      "cell_type": "code",
      "execution_count": null,
      "metadata": {
        "id": "QaWRHNhb3zNk"
      },
      "outputs": [],
      "source": [
        "custom_draw_dynamic_new(graphs_list[7].to_undirected(), all_dates[7], 10, 'greedy')"
      ]
    },
    {
      "cell_type": "code",
      "execution_count": null,
      "metadata": {
        "id": "j_Oy1bpz3zNk"
      },
      "outputs": [],
      "source": [
        "custom_draw_dynamic_new(graphs_list[8].to_undirected(), all_dates[8], 10, 'greedy')"
      ]
    },
    {
      "cell_type": "code",
      "execution_count": null,
      "metadata": {
        "id": "ojlfvDsL3zNl"
      },
      "outputs": [],
      "source": [
        "custom_draw_dynamic_new(graphs_list[9].to_undirected(), all_dates[9], 10, 'greedy')"
      ]
    },
    {
      "cell_type": "markdown",
      "metadata": {
        "id": "Lxrd3Gq73oQO"
      },
      "source": [
        "### Lukes (Label Propagation) Results:"
      ]
    },
    {
      "cell_type": "code",
      "execution_count": null,
      "metadata": {
        "id": "rx_3GKsk37At"
      },
      "outputs": [],
      "source": [
        "custom_draw_dynamic_new(graphs_list[0].to_undirected(), all_dates[0], 10, 'label')"
      ]
    },
    {
      "cell_type": "code",
      "execution_count": null,
      "metadata": {
        "id": "aiif0VVM37At"
      },
      "outputs": [],
      "source": [
        "custom_draw_dynamic_new(graphs_list[1].to_undirected(), all_dates[1], 10, 'label')"
      ]
    },
    {
      "cell_type": "code",
      "execution_count": null,
      "metadata": {
        "id": "VtKyPSM637At"
      },
      "outputs": [],
      "source": [
        "custom_draw_dynamic_new(graphs_list[2].to_undirected(), all_dates[2], 10, 'label')"
      ]
    },
    {
      "cell_type": "code",
      "execution_count": null,
      "metadata": {
        "id": "2jJMXktD37At"
      },
      "outputs": [],
      "source": [
        "custom_draw_dynamic_new(graphs_list[3].to_undirected(), all_dates[3], 10, 'label')"
      ]
    },
    {
      "cell_type": "code",
      "execution_count": null,
      "metadata": {
        "id": "diG2KW9C37Au"
      },
      "outputs": [],
      "source": [
        "custom_draw_dynamic_new(graphs_list[4].to_undirected(), all_dates[4], 10, 'label')"
      ]
    },
    {
      "cell_type": "code",
      "execution_count": null,
      "metadata": {
        "id": "WQeMS1qN37Au"
      },
      "outputs": [],
      "source": [
        "custom_draw_dynamic_new(graphs_list[5].to_undirected(), all_dates[5], 10, 'label')"
      ]
    },
    {
      "cell_type": "code",
      "execution_count": null,
      "metadata": {
        "id": "PzViy4mx37Au"
      },
      "outputs": [],
      "source": [
        "custom_draw_dynamic_new(graphs_list[6].to_undirected(), all_dates[6], 10, 'label')"
      ]
    },
    {
      "cell_type": "code",
      "execution_count": null,
      "metadata": {
        "id": "igXk18-237Au"
      },
      "outputs": [],
      "source": [
        "custom_draw_dynamic_new(graphs_list[7].to_undirected(), all_dates[7], 10, 'label')"
      ]
    },
    {
      "cell_type": "code",
      "execution_count": null,
      "metadata": {
        "id": "N42llDC_37Au"
      },
      "outputs": [],
      "source": [
        "custom_draw_dynamic_new(graphs_list[8].to_undirected(), all_dates[8], 10, 'label')"
      ]
    },
    {
      "cell_type": "code",
      "execution_count": null,
      "metadata": {
        "id": "vgHeJBlP37Au"
      },
      "outputs": [],
      "source": [
        "custom_draw_dynamic_new(graphs_list[9].to_undirected(), all_dates[9], 10, 'label')"
      ]
    },
    {
      "cell_type": "markdown",
      "metadata": {
        "id": "25ulVRBiMSxt"
      },
      "source": [
        "### Graph Comparison between algorithms:"
      ]
    },
    {
      "cell_type": "code",
      "execution_count": 43,
      "metadata": {
        "colab": {
          "base_uri": "https://localhost:8080/",
          "height": 696
        },
        "id": "IgPYvW0AMX2H",
        "outputId": "aa50a916-c8a6-4488-a3b2-cf501ec54152"
      },
      "outputs": [
        {
          "data": {
            "image/png": "[encoded data removed]",
            "text/plain": [
              "<Figure size 1000x800 with 1 Axes>"
            ]
          },
          "metadata": {},
          "output_type": "display_data"
        }
      ],
      "source": [
        "## Plot the number of nodes for quaters\n",
        "louvain_communities = [4, 3, 5, 8, 6, 7, 7, 6, 6, 8]\n",
        "greedy_communities  = [5, 5, 8, 7, 6, 2, 2, 3, 5, 7]\n",
        "label_communities   = [1, 1, 2, 2, 2, 2, 2, 3, 2, 1]\n",
        "bitcoin_values = [243.39, 257.66, 237.57, 430.05, 417.01, 607.37, 613.93, 997.69, 1079.75, 2499.98]\n",
        "timestamp = [\"2015 - Q1\", \"2015 - Q2\", \"2015 - Q3\", \"2015 - Q4\", \"2016 - Q1\", \"2016 - Q2\", \"2016 - Q3\", \"2016 - Q4\", \"2017 - Q1\", \"2017 - Q2\"]\n",
        "plt.figure(figsize=(10, 8))\n",
        "plt.plot(timestamp, bitcoin_values, timestamp, louvain_communities, timestamp, greedy_communities, timestamp, label_communities)\n",
        "plt.xlabel(\"Timestamp\")\n",
        "plt.ylabel(\"Number of communities\")\n",
        "plt.yscale('log')\n",
        "plt.grid()\n",
        "plt.legend(['Bitcoin Value in US-Dollar', 'Number of Communities Louvain', 'Number of Communities Greedy', 'Number of Communities Label Prop.'])\n",
        "plt.show()"
      ]
    },
    {
      "cell_type": "markdown",
      "metadata": {
        "id": "0u9EIeT-5Zym"
      },
      "source": [
        "## Compute modularities for each date:"
      ]
    },
    {
      "cell_type": "code",
      "execution_count": 44,
      "metadata": {
        "colab": {
          "base_uri": "https://localhost:8080/"
        },
        "id": "dwcIotlf5WYm",
        "outputId": "a66283da-7889-442e-d854-9447392e5ce3"
      },
      "outputs": [
        {
          "name": "stdout",
          "output_type": "stream",
          "text": [
            "{'louvain': 0.3106379722724265, 'greedy': -0.3296944605686886, 'label': 0.0}\n"
          ]
        }
      ],
      "source": [
        "def partition_to_dict(partitions):\n",
        "    ''' Convert a list of sets (communities) into a dictionary mapping each node to its community. '''\n",
        "    partition_dict = {}\n",
        "    for i, community in enumerate(partitions):\n",
        "        for node in community:\n",
        "            partition_dict[node] = i\n",
        "    return partition_dict\n",
        "\n",
        "def custom_draw_dynamic_new(G, n, algorithm):\n",
        "    ''' Custom function that detects communities, calculates modularity, and returns modularity for a given algorithm. '''\n",
        "\n",
        "    G = G.copy()  # Work on a copy of the graph to preserve the original graph\n",
        "\n",
        "    # Remove nodes with degree less than n\n",
        "    nodes_to_remove = [node for node, degree in dict(G.degree()).items() if degree < n]\n",
        "    G.remove_nodes_from(nodes_to_remove)\n",
        "\n",
        "    if G.number_of_nodes() == 0:\n",
        "        return \"Graph is empty after removing nodes with degree less than n.\"\n",
        "\n",
        "    # Extract the largest component of the graph\n",
        "    largest_cc = max(nx.connected_components(G), key=len)\n",
        "    G_largest_cc = G.subgraph(largest_cc).copy()\n",
        "\n",
        "    partition = None\n",
        "    modularity = None\n",
        "\n",
        "    if algorithm == 'louvain':\n",
        "        partition = community_louvain.best_partition(G_largest_cc)\n",
        "        modularity = community_louvain.modularity(partition, G_largest_cc)\n",
        "    elif algorithm == 'greedy':\n",
        "        communities = list(nx.community.greedy_modularity_communities(G_largest_cc))\n",
        "        partition = partition_to_dict(communities)\n",
        "        modularity = community_louvain.modularity(partition, G_largest_cc)\n",
        "    elif algorithm == 'label':\n",
        "        communities = list(nx.community.label_propagation_communities(G_largest_cc))\n",
        "        partition = partition_to_dict(communities)\n",
        "        modularity = community_louvain.modularity(partition, G_largest_cc)\n",
        "\n",
        "    return modularity"
      ]
    },
    {
      "cell_type": "code",
      "execution_count": 47,
      "metadata": {
        "colab": {
          "base_uri": "https://localhost:8080/"
        },
        "id": "XuahguOC7Dje",
        "outputId": "3c3541aa-e2b6-4c21-df14-8980d7afc7d1"
      },
      "outputs": [
        {
          "name": "stdout",
          "output_type": "stream",
          "text": [
            "Date: 2015-Q1, Metrics: {'louvain': 0.31118135117195467, 'greedy': -0.3296944605686886, 'label': 0.0}\n",
            "Date: 2015-Q2, Metrics: {'louvain': 0.355596522189002, 'greedy': -0.25617954623247624, 'label': 0.0}\n",
            "Date: 2015-Q3, Metrics: {'louvain': 0.35737171154969083, 'greedy': -0.08890080444559476, 'label': 0.00026971433341970526}\n",
            "Date: 2015-Q4, Metrics: {'louvain': 0.48160387480507416, 'greedy': -0.10365023329904988, 'label': 0.01238471835407906}\n",
            "Date: 2016-Q1, Metrics: {'louvain': 0.19725143335035863, 'greedy': 0.032622840261269014, 'label': 0.030598352321454678}\n",
            "Date: 2016-Q2, Metrics: {'louvain': 0.42137460525223125, 'greedy': 0.11779808992217372, 'label': 0.1194141483058444}\n",
            "Date: 2016-Q3, Metrics: {'louvain': 0.5428151582866169, 'greedy': 0.16039913606840822, 'label': 0.12908214057998224}\n",
            "Date: 2016-Q4, Metrics: {'louvain': 0.4168351081873533, 'greedy': 0.037975227105895966, 'label': 0.035701422923016396}\n",
            "Date: 2017-Q1, Metrics: {'louvain': 0.4590234950953168, 'greedy': -0.07316325883746687, 'label': 1.8625489368367826e-08}\n",
            "Date: 2017-Q2, Metrics: {'louvain': 0.43081038359163976, 'greedy': -0.016067610491146907, 'label': 0.0}\n"
          ]
        }
      ],
      "source": [
        "# Execute for each date!\n",
        "\n",
        "# Algorithms to be used\n",
        "algorithms = ['louvain', 'greedy', 'label']\n",
        "\n",
        "for i in range (10):\n",
        "  modularities = {}\n",
        "  for algorithm in algorithms:\n",
        "    modularity = custom_draw_dynamic_new(graphs_list[i].to_undirected(), n=10, algorithm=algorithm)\n",
        "    modularities[algorithm] = modularity\n",
        "  print(\"Date: {}, Metrics: {}\".format(all_dates[i].split('/')[-2], modularities))"
      ]
    },
    {
      "cell_type": "code",
      "execution_count": 48,
      "metadata": {
        "id": "5bGawzGQq_C4"
      },
      "outputs": [],
      "source": [
        "# End of notebook!"
      ]
    }
  ],
  "metadata": {
    "colab": {
      "provenance": []
    },
    "kernelspec": {
      "display_name": "Python 3",
      "name": "python3"
    },
    "language_info": {
      "codemirror_mode": {
        "name": "ipython",
        "version": 3
      },
      "file_extension": ".py",
      "mimetype": "text/x-python",
      "name": "python",
      "nbconvert_exporter": "python",
      "pygments_lexer": "ipython3",
      "version": "3.10.13"
    }
  },
  "nbformat": 4,
  "nbformat_minor": 0
}
